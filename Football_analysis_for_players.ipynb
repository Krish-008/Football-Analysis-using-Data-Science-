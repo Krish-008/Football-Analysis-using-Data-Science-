{
  "nbformat": 4,
  "nbformat_minor": 0,
  "metadata": {
    "colab": {
      "provenance": []
    },
    "kernelspec": {
      "name": "python3",
      "display_name": "Python 3"
    },
    "language_info": {
      "name": "python"
    }
  },
  "cells": [
    {
      "cell_type": "markdown",
      "source": [
        "Import Libraries"
      ],
      "metadata": {
        "id": "8e7GNRGkt7cd"
      }
    },
    {
      "cell_type": "code",
      "execution_count": null,
      "metadata": {
        "id": "bpCvR2TsihlB"
      },
      "outputs": [],
      "source": [
        "import pandas as pd\n",
        "import numpy as np\n",
        "import matplotlib.pyplot as plt\n",
        "import seaborn as sns\n",
        "from sklearn.model_selection import train_test_split\n",
        "from sklearn.preprocessing import StandardScaler\n",
        "from sklearn.metrics import accuracy_score, classification_report, confusion_matrix\n",
        "from sklearn.linear_model import LogisticRegression\n",
        "from sklearn.tree import DecisionTreeClassifier\n",
        "from sklearn.ensemble import RandomForestClassifier\n",
        "from sklearn.svm import SVC\n",
        "from sklearn.metrics import mean_squared_error, r2_score\n",
        "from sklearn.metrics import accuracy_score, confusion_matrix, classification_report"
      ]
    },
    {
      "cell_type": "markdown",
      "source": [
        "Reading the Dataset"
      ],
      "metadata": {
        "id": "AO96tcqNuAGh"
      }
    },
    {
      "cell_type": "code",
      "source": [
        "football_df=pd.read_csv(\"fifa_players.csv\")\n",
        "remove_colums = ['national_team','national_rating','national_team_position']\n",
        "football_df = football_df.drop(remove_colums, axis=1)\n"
      ],
      "metadata": {
        "id": "UJFKJe1Lt_pb"
      },
      "execution_count": null,
      "outputs": []
    },
    {
      "cell_type": "code",
      "source": [
        "football_df.head()\n",
        "football_df.info()\n"
      ],
      "metadata": {
        "colab": {
          "base_uri": "https://localhost:8080/"
        },
        "id": "amzoZXCauMP8",
        "outputId": "e3be5190-beaa-44d8-b8ee-07ca3363e720"
      },
      "execution_count": null,
      "outputs": [
        {
          "output_type": "stream",
          "name": "stdout",
          "text": [
            "<class 'pandas.core.frame.DataFrame'>\n",
            "RangeIndex: 17954 entries, 0 to 17953\n",
            "Data columns (total 42 columns):\n",
            " #   Column                         Non-Null Count  Dtype  \n",
            "---  ------                         --------------  -----  \n",
            " 0   name                           17954 non-null  object \n",
            " 1   full_name                      17954 non-null  object \n",
            " 2   age                            17954 non-null  int64  \n",
            " 3   height_cm                      17954 non-null  float64\n",
            " 4   weight_kgs                     17954 non-null  float64\n",
            " 5   positions                      17954 non-null  object \n",
            " 6   nationality                    17954 non-null  object \n",
            " 7   overall_rating                 17954 non-null  int64  \n",
            " 8   potential                      17954 non-null  int64  \n",
            " 9   preferred_foot                 17954 non-null  object \n",
            " 10  international_reputation(1-5)  17954 non-null  int64  \n",
            " 11  weak_foot(1-5)                 17954 non-null  int64  \n",
            " 12  skill_moves(1-5)               17954 non-null  int64  \n",
            " 13  crossing                       17954 non-null  int64  \n",
            " 14  finishing                      17954 non-null  int64  \n",
            " 15  heading_accuracy               17954 non-null  int64  \n",
            " 16  short_passing                  17954 non-null  int64  \n",
            " 17  volleys                        17954 non-null  int64  \n",
            " 18  dribbling                      17954 non-null  int64  \n",
            " 19  curve                          17954 non-null  int64  \n",
            " 20  freekick_accuracy              17954 non-null  int64  \n",
            " 21  long_passing                   17954 non-null  int64  \n",
            " 22  ball_control                   17954 non-null  int64  \n",
            " 23  acceleration                   17954 non-null  int64  \n",
            " 24  sprint_speed                   17954 non-null  int64  \n",
            " 25  agility                        17954 non-null  int64  \n",
            " 26  reactions                      17954 non-null  int64  \n",
            " 27  balance                        17954 non-null  int64  \n",
            " 28  shot_power                     17954 non-null  int64  \n",
            " 29  jumping                        17954 non-null  int64  \n",
            " 30  stamina                        17954 non-null  int64  \n",
            " 31  strength                       17954 non-null  int64  \n",
            " 32  long_shots                     17954 non-null  int64  \n",
            " 33  aggression                     17954 non-null  int64  \n",
            " 34  interceptions                  17954 non-null  int64  \n",
            " 35  positioning                    17954 non-null  int64  \n",
            " 36  vision                         17954 non-null  int64  \n",
            " 37  penalties                      17954 non-null  int64  \n",
            " 38  composure                      17954 non-null  int64  \n",
            " 39  marking                        17954 non-null  int64  \n",
            " 40  standing_tackle                17954 non-null  int64  \n",
            " 41  sliding_tackle                 17954 non-null  int64  \n",
            "dtypes: float64(2), int64(35), object(5)\n",
            "memory usage: 5.8+ MB\n"
          ]
        }
      ]
    },
    {
      "cell_type": "markdown",
      "source": [
        "Cleaning the data   "
      ],
      "metadata": {
        "id": "hR17dt2PuXnh"
      }
    },
    {
      "cell_type": "code",
      "source": [
        "print(football_df.isnull().sum())"
      ],
      "metadata": {
        "colab": {
          "base_uri": "https://localhost:8080/"
        },
        "id": "OIKtr2psuVLo",
        "outputId": "c8ed41a0-093d-4057-d254-e62b4835b03a"
      },
      "execution_count": null,
      "outputs": [
        {
          "output_type": "stream",
          "name": "stdout",
          "text": [
            "name                             0\n",
            "full_name                        0\n",
            "age                              0\n",
            "height_cm                        0\n",
            "weight_kgs                       0\n",
            "positions                        0\n",
            "nationality                      0\n",
            "overall_rating                   0\n",
            "potential                        0\n",
            "preferred_foot                   0\n",
            "international_reputation(1-5)    0\n",
            "weak_foot(1-5)                   0\n",
            "skill_moves(1-5)                 0\n",
            "crossing                         0\n",
            "finishing                        0\n",
            "heading_accuracy                 0\n",
            "short_passing                    0\n",
            "volleys                          0\n",
            "dribbling                        0\n",
            "curve                            0\n",
            "freekick_accuracy                0\n",
            "long_passing                     0\n",
            "ball_control                     0\n",
            "acceleration                     0\n",
            "sprint_speed                     0\n",
            "agility                          0\n",
            "reactions                        0\n",
            "balance                          0\n",
            "shot_power                       0\n",
            "jumping                          0\n",
            "stamina                          0\n",
            "strength                         0\n",
            "long_shots                       0\n",
            "aggression                       0\n",
            "interceptions                    0\n",
            "positioning                      0\n",
            "vision                           0\n",
            "penalties                        0\n",
            "composure                        0\n",
            "marking                          0\n",
            "standing_tackle                  0\n",
            "sliding_tackle                   0\n",
            "dtype: int64\n"
          ]
        }
      ]
    },
    {
      "cell_type": "markdown",
      "source": [
        "Performing EDA(Exploratory Data Analysis)\n"
      ],
      "metadata": {
        "id": "oeup-pO7wNyj"
      }
    },
    {
      "cell_type": "markdown",
      "source": [
        "Top 10 Highest Rated Players"
      ],
      "metadata": {
        "id": "SEkrU8dEwUOC"
      }
    },
    {
      "cell_type": "code",
      "source": [
        "column_name = 'overall_rating'\n",
        "highest_values = football_df.nlargest(10, column_name)\n",
        "col = ['name','overall_rating','nationality']\n",
        "name = highest_values[col]\n",
        "print(name)"
      ],
      "metadata": {
        "colab": {
          "base_uri": "https://localhost:8080/"
        },
        "id": "72E82vizxfIW",
        "outputId": "2b141250-724b-4481-e571-d60c1ca6f1f1"
      },
      "execution_count": null,
      "outputs": [
        {
          "output_type": "stream",
          "name": "stdout",
          "text": [
            "                    name  overall_rating nationality\n",
            "0               L. Messi              94   Argentina\n",
            "17944  Cristiano Ronaldo              94    Portugal\n",
            "17943          Neymar Jr              92      Brazil\n",
            "17938          L. Suárez              91     Uruguay\n",
            "17939          L. Modrić              91     Croatia\n",
            "17940          E. Hazard              91     Belgium\n",
            "17941       K. De Bruyne              91     Belgium\n",
            "17942             De Gea              91       Spain\n",
            "17930       G. Chiellini              90       Italy\n",
            "17931       Sergio Ramos              90       Spain\n"
          ]
        }
      ]
    },
    {
      "cell_type": "markdown",
      "source": [
        "Top 10 performing country"
      ],
      "metadata": {
        "id": "8CxHR2ISyzrU"
      }
    },
    {
      "cell_type": "code",
      "source": [
        "nationality_stats = football_df.groupby('nationality').agg(\n",
        "    average_overall_rating=('overall_rating', 'mean')\n",
        ").reset_index()\n",
        "\n",
        "print(nationality_stats.nlargest(10, 'average_overall_rating'))"
      ],
      "metadata": {
        "colab": {
          "base_uri": "https://localhost:8080/"
        },
        "id": "Yd5Uaf_G1s1W",
        "outputId": "b855f020-335a-4bc1-d2a3-5b0ea9a8ba5f"
      },
      "execution_count": null,
      "outputs": [
        {
          "output_type": "stream",
          "name": "stdout",
          "text": [
            "              nationality  average_overall_rating\n",
            "150  United Arab Emirates               77.000000\n",
            "40     Dominican Republic               72.000000\n",
            "102            Mozambique               72.000000\n",
            "111                  Oman               72.000000\n",
            "141   São Tomé & Príncipe               72.000000\n",
            "75                 Israel               71.666667\n",
            "119              Portugal               71.113433\n",
            "18                 Brazil               71.051683\n",
            "89                  Libya               71.000000\n",
            "105         New Caledonia               71.000000\n"
          ]
        }
      ]
    },
    {
      "cell_type": "code",
      "source": [
        "plt.figure(figsize=(10, 5))\n",
        "sns.histplot(football_df['overall_rating'], bins=30, kde=True, color='blue')\n",
        "plt.title(\"Distribution of Player Ratings\")\n",
        "plt.show()"
      ],
      "metadata": {
        "colab": {
          "base_uri": "https://localhost:8080/",
          "height": 487
        },
        "id": "X35Hda4wu6iY",
        "outputId": "32163cc7-8d9b-489f-cf20-f312b898e37f"
      },
      "execution_count": null,
      "outputs": [
        {
          "output_type": "display_data",
          "data": {
            "text/plain": [
              "<Figure size 1000x500 with 1 Axes>"
            ],
            "image/png": "[encoded data removed]"
          },
          "metadata": {}
        }
      ]
    },
    {
      "cell_type": "markdown",
      "source": [
        "Now we perform K-Means Clustering"
      ],
      "metadata": {
        "id": "SstLdhJw2YcB"
      }
    },
    {
      "cell_type": "markdown",
      "source": [
        "1.Top Play makers"
      ],
      "metadata": {
        "id": "x8MSOPuQaUC5"
      }
    },
    {
      "cell_type": "code",
      "source": [
        "play_maker = ['crossing','dribbling','long_passing','positioning','stamina','positioning','vision']\n",
        "play_maker_df = football_df[['name', 'nationality'] + play_maker]\n",
        "player_means = play_maker_df.groupby(['name', 'nationality'])[play_maker].mean().mean(axis=1)\n",
        "top_10 = player_means.nlargest(10).reset_index()\n",
        "print(top_10)"
      ],
      "metadata": {
        "colab": {
          "base_uri": "https://localhost:8080/"
        },
        "id": "-sbMWskEmGbG",
        "outputId": "a0fc39be-620a-4300-fe82-992a1dc8fb58"
      },
      "execution_count": null,
      "outputs": [
        {
          "output_type": "stream",
          "name": "stdout",
          "text": [
            "                name nationality          0\n",
            "0           L. Messi   Argentina  90.444444\n",
            "1       K. De Bruyne     Belgium  89.000000\n",
            "2  Cristiano Ronaldo    Portugal  88.777778\n",
            "3          Neymar Jr      Brazil  87.111111\n",
            "4        David Silva       Spain  87.000000\n",
            "5       A. Griezmann      France  86.888889\n",
            "6         C. Eriksen     Denmark  86.666667\n",
            "7          E. Hazard     Belgium  86.555556\n",
            "8           M. Salah       Egypt  86.333333\n",
            "9          L. Suárez     Uruguay  86.000000\n"
          ]
        }
      ]
    },
    {
      "cell_type": "markdown",
      "source": [
        "2.Top Defenders"
      ],
      "metadata": {
        "id": "oH_NGsgVmr1e"
      }
    },
    {
      "cell_type": "code",
      "source": [
        "defence = ['marking','standing_tackle','sliding_tackle','aggression','interceptions','vision']\n",
        "play_maker_df = football_df[['name', 'nationality'] + defence]\n",
        "player_means = play_maker_df.groupby(['name', 'nationality'])[defence].mean().mean(axis=1)\n",
        "top_10 = player_means.nlargest(10).reset_index()\n",
        "print(top_10)"
      ],
      "metadata": {
        "colab": {
          "base_uri": "https://localhost:8080/"
        },
        "id": "AKPU19ARa4ik",
        "outputId": "70810d1f-9aac-4530-a29c-59a41be465ba"
      },
      "execution_count": null,
      "outputs": [
        {
          "output_type": "stream",
          "name": "stdout",
          "text": [
            "              name nationality          0\n",
            "0         N. Kanté      France  88.000000\n",
            "1  Sergio Busquets       Spain  85.833333\n",
            "2         A. Vidal       Chile  85.500000\n",
            "3            Allan      Brazil  85.500000\n",
            "4     Sergio Ramos       Spain  85.500000\n",
            "5      Azpilicueta       Spain  84.833333\n",
            "6         Casemiro      Brazil  84.833333\n",
            "7    Javi Martínez       Spain  84.833333\n",
            "8    R. Nainggolan     Belgium  84.833333\n",
            "9     G. Chiellini       Italy  84.500000\n"
          ]
        }
      ]
    },
    {
      "cell_type": "markdown",
      "source": [
        "3.Top strikers"
      ],
      "metadata": {
        "id": "e4pAywAlnTHN"
      }
    },
    {
      "cell_type": "code",
      "source": [
        "striker = ['finishing','heading_accuracy','volleys','freekick_accuracy','shot_power','penalties','composure']\n",
        "play_maker_df = football_df[['name', 'nationality'] + striker]\n",
        "player_means = play_maker_df.groupby(['name', 'nationality'])[striker].mean().mean(axis=1)\n",
        "top_10 = player_means.nlargest(10).reset_index()\n",
        "print(top_10)"
      ],
      "metadata": {
        "colab": {
          "base_uri": "https://localhost:8080/"
        },
        "id": "MoO9dPUmnBXH",
        "outputId": "efcc2935-1b8c-40b0-b6a2-60845227317f"
      },
      "execution_count": null,
      "outputs": [
        {
          "output_type": "stream",
          "name": "stdout",
          "text": [
            "                name nationality          0\n",
            "0  Cristiano Ronaldo    Portugal  88.714286\n",
            "1     R. Lewandowski      Poland  87.285714\n",
            "2     Z. Ibrahimović      Sweden  86.571429\n",
            "3          L. Suárez     Uruguay  86.285714\n",
            "4           L. Messi   Argentina  85.857143\n",
            "5       A. Griezmann      France  85.428571\n",
            "6          E. Cavani     Uruguay  85.428571\n",
            "7            G. Bale       Wales  85.142857\n",
            "8          S. Agüero   Argentina  84.142857\n",
            "9          P. Dybala   Argentina  82.857143\n"
          ]
        }
      ]
    },
    {
      "cell_type": "markdown",
      "source": [
        "4.Top midfielders\n"
      ],
      "metadata": {
        "id": "P4X2iLH7oLQB"
      }
    },
    {
      "cell_type": "code",
      "source": [
        "midfielders = ['long_passing','ball_control','long_shots','positioning','vision','stamina','strength']\n",
        "play_maker_df = football_df[['name', 'nationality'] + midfielders]\n",
        "player_means = play_maker_df.groupby(['name', 'nationality'])[midfielders].mean().mean(axis=1)\n",
        "top_10 = player_means.nlargest(10).reset_index()\n",
        "print(top_10)"
      ],
      "metadata": {
        "colab": {
          "base_uri": "https://localhost:8080/"
        },
        "id": "Q9iDOdaCoCA3",
        "outputId": "be6f791a-5b19-44a5-cfe7-18b8d97616e4"
      },
      "execution_count": null,
      "outputs": [
        {
          "output_type": "stream",
          "name": "stdout",
          "text": [
            "                  name nationality          0\n",
            "0         K. De Bruyne     Belgium  88.285714\n",
            "1    Cristiano Ronaldo    Portugal  86.857143\n",
            "2             P. Pogba      France  86.714286\n",
            "3             L. Messi   Argentina  86.428571\n",
            "4           C. Eriksen     Denmark  84.857143\n",
            "5                 Koke       Spain  84.428571\n",
            "6            L. Suárez     Uruguay  84.428571\n",
            "7  S. Milinković-Savić      Serbia  84.142857\n",
            "8             T. Kroos     Germany  84.000000\n",
            "9        R. Nainggolan     Belgium  83.428571\n"
          ]
        }
      ]
    },
    {
      "cell_type": "markdown",
      "source": [
        "Predicting Future performance by Regression model"
      ],
      "metadata": {
        "id": "oU5c8rswpr11"
      }
    },
    {
      "cell_type": "code",
      "source": [
        "from sklearn.ensemble import RandomForestRegressor\n",
        "from sklearn.metrics import mean_absolute_error, mean_squared_error\n",
        "from sklearn.model_selection import train_test_split\n"
      ],
      "metadata": {
        "id": "lP91BmACrZMQ"
      },
      "execution_count": null,
      "outputs": []
    },
    {
      "cell_type": "code",
      "source": [
        "X = football_df[['age', 'dribbling', 'short_passing','long_passing', 'long_shots','shot_power', 'stamina','strength']]\n",
        "y = football_df['potential']\n",
        "X_train, X_test, y_train, y_test = train_test_split(X, y, test_size=0.2, random_state=42)\n",
        "\n",
        "model = RandomForestRegressor(n_estimators=100, random_state=42)\n",
        "model.fit(X_train, y_train)\n",
        "y_pred = model.predict(X_test)\n",
        "\n",
        "mae = mean_absolute_error(y_test, y_pred)\n",
        "mse = mean_squared_error(y_test, y_pred)\n",
        "print(f\"MAE: {mae}, MSE: {mse}\")"
      ],
      "metadata": {
        "colab": {
          "base_uri": "https://localhost:8080/"
        },
        "id": "dLEQ6N1Uo2uD",
        "outputId": "2d7f9f68-523f-4652-819f-50cce9d22597"
      },
      "execution_count": null,
      "outputs": [
        {
          "output_type": "stream",
          "name": "stdout",
          "text": [
            "MAE: 2.7507407407407407, MSE: 13.78555463659148\n"
          ]
        }
      ]
    },
    {
      "cell_type": "code",
      "source": [],
      "metadata": {
        "id": "KqjX1p-dp2Hr"
      },
      "execution_count": null,
      "outputs": []
    }
  ]
}